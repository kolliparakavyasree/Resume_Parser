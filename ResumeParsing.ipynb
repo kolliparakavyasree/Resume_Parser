{
 "cells": [
  {
   "cell_type": "code",
   "execution_count": 2,
   "metadata": {},
   "outputs": [
    {
     "data": {
      "text/plain": [
       "<module 'ntpath' from 'C:\\\\Users\\\\Satish\\\\Anaconda3\\\\envs\\\\ResumeParser\\\\lib\\\\ntpath.py'>"
      ]
     },
     "execution_count": 2,
     "metadata": {},
     "output_type": "execute_result"
    }
   ],
   "source": [
    "import os\n",
    "os.path"
   ]
  },
  {
   "cell_type": "code",
   "execution_count": 5,
   "metadata": {
    "collapsed": true
   },
   "outputs": [],
   "source": [
    "import tika\n",
    "from tika import parser\n",
    "import re"
   ]
  },
  {
   "cell_type": "code",
   "execution_count": 12,
   "metadata": {},
   "outputs": [
    {
     "name": "stdout",
     "output_type": "stream",
     "text": [
      "Starting Resume Parsing\n",
      "Email ids :\n",
      "\t ['sreelekhyaramya@gmail.com']\n",
      "Phone No.s :\n",
      "\t ['9494872428']\n",
      "Addresses :\n",
      "\t ['Address: H No:2-3-710/2, Chanakayapuri, Sai Nagar Road No:1, Nagole, ']\n"
     ]
    }
   ],
   "source": [
    "#Resume Parsing\n",
    "import tika\n",
    "from tika import parser\n",
    "import re\n",
    "class ResumeParsing :\n",
    "    def parseAnyFile() :\n",
    "        tika.initVM()\n",
    "        parsed = parser.from_file('RamyaResume.docx')\n",
    "        content = parsed[\"content\"]\n",
    "        print(\"Starting Resume Parsing\")\n",
    "        email = re.findall(r'[\\w\\.-]+@[\\w\\.-]+', content)\n",
    "        phno = re.findall(r'[+0-9]{10,13}', content)\n",
    "        address = re.findall(r'Address[\\w /,-: ]+[ .]', content)\n",
    "\n",
    "        print(\"Email ids :\")\n",
    "        print('\\t', email)\n",
    "            \n",
    "        print(\"Phone No.s :\")\n",
    "        print('\\t', phno)\n",
    "        \n",
    "        print(\"Addresses :\")\n",
    "        print('\\t', address)\n",
    "                  \n",
    "    if __name__ == \"__main__\" :\n",
    "        parseAnyFile()"
   ]
  },
  {
   "cell_type": "code",
   "execution_count": null,
   "metadata": {
    "collapsed": true
   },
   "outputs": [],
   "source": []
  }
 ],
 "metadata": {
  "kernelspec": {
   "display_name": "Python 3",
   "language": "python",
   "name": "python3"
  },
  "language_info": {
   "codemirror_mode": {
    "name": "ipython",
    "version": 3
   },
   "file_extension": ".py",
   "mimetype": "text/x-python",
   "name": "python",
   "nbconvert_exporter": "python",
   "pygments_lexer": "ipython3",
   "version": "3.6.2"
  }
 },
 "nbformat": 4,
 "nbformat_minor": 2
}
